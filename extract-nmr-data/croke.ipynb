{
 "cells": [
  {
   "cell_type": "markdown",
   "metadata": {},
   "source": [
    "# Extract data from Croke et al.\n",
    "\n",
    "This will read HTML version of [_NMR determination of pKa values in α‐synuclein_](https://doi.org/10.1002/pro.556), find Table 1, clean it up and export it as a CSV file. Pandas requires that the `lxml` package is installed. "
   ]
  },
  {
   "cell_type": "code",
   "execution_count": null,
   "metadata": {},
   "outputs": [],
   "source": [
    "import pandas as pd\n",
    "db = pd.read_html('croke.html')[0][\"No salt\"] # HTML exported from journal page (not provided here)\n",
    "db.drop(db.tail(1).index,inplace=True)\n",
    "db.drop(columns=['n', 'Î´low', 'Î´high'], inplace=True)\n",
    "pKa = db.pKa.str.split('Â').str.get(0).astype(float)\n",
    "err = db.pKa.str.split('Â').str.get(1).str.split('±').str.get(1).astype(float)\n",
    "db = db.assign(pKa=pKa)\n",
    "db = db.assign(err=err)\n",
    "db = db.assign(Site=db.Site.str.split(' ').str.get(0).str.replace('cc', '').str.replace('dd',''))\n",
    "db = db.assign(resname = db.Site.str.split('([A-Za-z]+)(\\d+)').str.get(1).astype(str))\n",
    "db = db.assign(resnum = db.Site.str.split('([A-Za-z]+)(\\d+)').str.get(2).astype(int))\n",
    "#db.drop(columns=['Site'], inplace=True)\n",
    "db.to_csv('croke.csv')\n",
    "db"
   ]
  },
  {
   "cell_type": "code",
   "execution_count": null,
   "metadata": {},
   "outputs": [],
   "source": [
    "db.plot(x='Site', y='pKa', yerr='err')"
   ]
  }
 ],
 "metadata": {
  "kernelspec": {
   "display_name": "Python 3",
   "language": "python",
   "name": "python3"
  },
  "language_info": {
   "codemirror_mode": {
    "name": "ipython",
    "version": 3
   },
   "file_extension": ".py",
   "mimetype": "text/x-python",
   "name": "python",
   "nbconvert_exporter": "python",
   "pygments_lexer": "ipython3",
   "version": "3.8.5"
  }
 },
 "nbformat": 4,
 "nbformat_minor": 4
}
